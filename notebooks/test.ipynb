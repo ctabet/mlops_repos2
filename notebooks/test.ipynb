{
 "cells": [
  {
   "cell_type": "code",
   "execution_count": 2,
   "id": "initial_id",
   "metadata": {
    "collapsed": true,
    "ExecuteTime": {
     "end_time": "2023-12-01T09:44:56.100320200Z",
     "start_time": "2023-12-01T09:44:56.047534800Z"
    }
   },
   "outputs": [
    {
     "data": {
      "text/plain": "{5}"
     },
     "execution_count": 2,
     "metadata": {},
     "output_type": "execute_result"
    }
   ],
   "source": [
    "x= [5]\n",
    "set(x)"
   ]
  },
  {
   "cell_type": "code",
   "execution_count": 20,
   "outputs": [
    {
     "name": "stdout",
     "output_type": "stream",
     "text": [
      "[ 54.43414634 131.61170732 246.         149.11414634   1.0715122 ]\n",
      "[8.22261511e+01 3.06536058e+02 2.65919024e+03 5.28746971e+02\n",
      " 1.37940308e+00]\n",
      "[ 9.06786365 17.50817118 51.56733699 22.9944987   1.17447992]\n"
     ]
    }
   ],
   "source": [
    "import joblib\n",
    "s_sc = joblib.load(\"C:/charbel tabet/charbel/mlops_repos/mlops_training_repo/data/processed/scaler.pkl\")\n",
    "print(s_sc.mean_)\n",
    "print(s_sc.var_)\n",
    "print(s_sc.scale_)"
   ],
   "metadata": {
    "collapsed": false,
    "ExecuteTime": {
     "end_time": "2023-12-01T17:49:57.527539300Z",
     "start_time": "2023-12-01T17:49:57.511778600Z"
    }
   },
   "id": "f954c74e905702bb"
  },
  {
   "cell_type": "code",
   "execution_count": 23,
   "outputs": [
    {
     "name": "stdout",
     "output_type": "stream",
     "text": [
      "        age  trestbps      chol   thalach   oldpeak\n",
      "0 -3.797382  1.050269  4.925599  0.038525  0.449976\n"
     ]
    }
   ],
   "source": [
    "import pandas as pd\n",
    "from sklearn.preprocessing import StandardScaler\n",
    "\n",
    "new_df = pd.DataFrame({\n",
    "    'age': [20],\n",
    "    'trestbps': [150],\n",
    "    'chol': [500],\n",
    "    'thalach': [150],\n",
    "    'oldpeak': [1.6]\n",
    "})\n",
    "sc = StandardScaler()\n",
    "sc.mean_=s_sc.mean_\n",
    "sc_scale_=s_sc.scale_\n",
    "# Transform the new DataFrame using the trained scaler\n",
    "scaled_data = s_sc.transform(new_df)\n",
    "\n",
    "# Create a DataFrame from the scaled data with the same column names\n",
    "scaled_df = pd.DataFrame(scaled_data, columns=new_df.columns)\n",
    "\n",
    "print(scaled_df)"
   ],
   "metadata": {
    "collapsed": false,
    "ExecuteTime": {
     "end_time": "2023-12-01T17:53:55.052384200Z",
     "start_time": "2023-12-01T17:53:54.986782500Z"
    }
   },
   "id": "ec67d46c7325cd44"
  },
  {
   "cell_type": "code",
   "execution_count": null,
   "outputs": [],
   "source": [],
   "metadata": {
    "collapsed": false
   },
   "id": "fb5035bc7a9111f3"
  },
  {
   "cell_type": "code",
   "execution_count": 1,
   "outputs": [
    {
     "ename": "NameError",
     "evalue": "name 'scaled_data' is not defined",
     "output_type": "error",
     "traceback": [
      "\u001B[1;31m---------------------------------------------------------------------------\u001B[0m",
      "\u001B[1;31mNameError\u001B[0m                                 Traceback (most recent call last)",
      "Cell \u001B[1;32mIn[1], line 1\u001B[0m\n\u001B[1;32m----> 1\u001B[0m \u001B[43mscaled_data\u001B[49m\n",
      "\u001B[1;31mNameError\u001B[0m: name 'scaled_data' is not defined"
     ]
    }
   ],
   "source": [
    "scaled_data"
   ],
   "metadata": {
    "collapsed": false,
    "ExecuteTime": {
     "end_time": "2023-12-01T19:12:18.976033800Z",
     "start_time": "2023-12-01T19:12:18.434899400Z"
    }
   },
   "id": "f978a41a053c5bdc"
  },
  {
   "cell_type": "code",
   "execution_count": null,
   "outputs": [],
   "source": [],
   "metadata": {
    "collapsed": false
   },
   "id": "f0807d008b7b75ed"
  }
 ],
 "metadata": {
  "kernelspec": {
   "display_name": "Python 3",
   "language": "python",
   "name": "python3"
  },
  "language_info": {
   "codemirror_mode": {
    "name": "ipython",
    "version": 2
   },
   "file_extension": ".py",
   "mimetype": "text/x-python",
   "name": "python",
   "nbconvert_exporter": "python",
   "pygments_lexer": "ipython2",
   "version": "2.7.6"
  }
 },
 "nbformat": 4,
 "nbformat_minor": 5
}
